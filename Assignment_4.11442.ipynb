{
 "cells": [
  {
   "cell_type": "markdown",
   "metadata": {},
   "source": [
    "## Assignment_4.11442"
   ]
  },
  {
   "cell_type": "markdown",
   "metadata": {},
   "source": [
    "Write a function so that the columns of the output matrix are powers of the input vector. \n",
    "\n",
    "The order of the powers is determined by the increasing boolean argument. Specifically,             when increasing is False, the i-th output column is the input vector raised element-wise              to the power of N - i - 1."
   ]
  },
  {
   "cell_type": "code",
   "execution_count": 1,
   "metadata": {},
   "outputs": [],
   "source": [
    "import numpy as np"
   ]
  },
  {
   "cell_type": "code",
   "execution_count": 2,
   "metadata": {},
   "outputs": [
    {
     "name": "stdout",
     "output_type": "stream",
     "text": [
      "[[  8   4   2   1]\n",
      " [ 27   9   3   1]\n",
      " [ 64  16   4   1]\n",
      " [125  25   5   1]\n",
      " [216  36   6   1]]\n",
      "====================\n",
      "[[  1   2   4   8]\n",
      " [  1   3   9  27]\n",
      " [  1   4  16  64]\n",
      " [  1   5  25 125]\n",
      " [  1   6  36 216]]\n"
     ]
    }
   ],
   "source": [
    "def Func1(array, size, order = False):\n",
    "    return np.vander(array, size, order)\n",
    "\n",
    "a = np.array([2,3,4,5,6])\n",
    "n = 4\n",
    "print(Func1(a,n))\n",
    "print(\"=\" * 20)\n",
    "print(Func1(a,n,True))"
   ]
  },
  {
   "cell_type": "code",
   "execution_count": 3,
   "metadata": {},
   "outputs": [
    {
     "name": "stdout",
     "output_type": "stream",
     "text": [
      "[[  1   2   4   8]\n",
      " [  1   3   9  27]\n",
      " [  1   4  16  64]\n",
      " [  1   5  25 125]\n",
      " [  1   6  36 216]]\n",
      "====================\n",
      "[[  8   4   2   1]\n",
      " [ 27   9   3   1]\n",
      " [ 64  16   4   1]\n",
      " [125  25   5   1]\n",
      " [216  36   6   1]]\n"
     ]
    }
   ],
   "source": [
    "def Func2(array, size, order = False):\n",
    "    if order:\n",
    "        return np.column_stack([array**(size-i-1) for i in range(size)])\n",
    "    else:\n",
    "        return np.column_stack([array**(i) for i in range(size)])\n",
    "\n",
    "a = np.array([2,3,4,5,6])\n",
    "n = 4\n",
    "print(Func2(a,n))\n",
    "print(\"=\" * 20)\n",
    "print(Func2(a,n,True))"
   ]
  }
 ],
 "metadata": {
  "kernelspec": {
   "display_name": "Python 3",
   "language": "python",
   "name": "python3"
  },
  "language_info": {
   "codemirror_mode": {
    "name": "ipython",
    "version": 3
   },
   "file_extension": ".py",
   "mimetype": "text/x-python",
   "name": "python",
   "nbconvert_exporter": "python",
   "pygments_lexer": "ipython3",
   "version": "3.7.0"
  }
 },
 "nbformat": 4,
 "nbformat_minor": 2
}
